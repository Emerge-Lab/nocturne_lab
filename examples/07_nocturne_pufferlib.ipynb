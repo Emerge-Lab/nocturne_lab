{
 "cells": [
  {
   "cell_type": "code",
   "execution_count": 1,
   "metadata": {},
   "outputs": [],
   "source": [
    "from nocturne.envs.nocturne_gymnasium import NocturneGymnasium, CustomPostprocessor\n",
    "import yaml\n",
    "from nocturne.envs.base_env import BaseEnv\n",
    "from nocturne.envs.vec_env_ma import MultiAgentAsVecEnv\n",
    "\n",
    "import pufferlib.vectorization\n",
    "vec = pufferlib.vectorization.Multiprocessing\n",
    "# vec = pufferlib.vectorization.Serial\n",
    "\n",
    "import pufferlib.emulation\n",
    "import pufferlib.wrappers\n",
    "\n",
    "from time import perf_counter\n",
    "\n",
    "# Load environment settings\n",
    "with open(f\"../configs/env_config.yaml\", \"r\") as stream:\n",
    "    env_config = yaml.safe_load(stream)"
   ]
  },
  {
   "cell_type": "code",
   "execution_count": 2,
   "metadata": {},
   "outputs": [],
   "source": [
    "def make_env(env_config):\n",
    "    return NocturneGymnasium(config=env_config, num_agents=env_config[\"max_num_vehicles\"]) \n",
    "\n",
    "def nocturne_creator(env_config):\n",
    "    return pufferlib.emulation.GymnasiumPufferEnv(env_creator=make_env, env_args=(env_config,), postprocessor_cls=CustomPostprocessor)"
   ]
  },
  {
   "cell_type": "code",
   "execution_count": 3,
   "metadata": {},
   "outputs": [],
   "source": [
    "# envs = vec(nocturne_creator,env_args=[env_config,], num_envs=4, envs_per_worker=2, env_pool=True)"
   ]
  },
  {
   "cell_type": "code",
   "execution_count": 4,
   "metadata": {},
   "outputs": [],
   "source": [
    "# envs.async_reset()\n",
    "# obs = envs.recv()[0]"
   ]
  },
  {
   "cell_type": "code",
   "execution_count": 5,
   "metadata": {},
   "outputs": [],
   "source": [
    "# actions = [envs.single_action_space.sample() for _ in range(4)]\n",
    "# envs.step(actions)"
   ]
  },
  {
   "cell_type": "code",
   "execution_count": 6,
   "metadata": {},
   "outputs": [
    {
     "name": "stdout",
     "output_type": "stream",
     "text": [
      "Average time for single env step: 0.002120851782616228\n",
      "Average FPS for single env step: 471.50866844944056\n"
     ]
    }
   ],
   "source": [
    "NUM_STEPS = 1000\n",
    "\n",
    "env = make_env(env_config)\n",
    "env.reset()\n",
    "\n",
    "total_time = 0\n",
    "\n",
    "for i in range(NUM_STEPS):\n",
    "    actions = env.action_space.sample()\n",
    "    start = perf_counter()\n",
    "    env.step(actions)\n",
    "    end = perf_counter()\n",
    "    total_time += end - start\n",
    "\n",
    "print(f\"Average time for single env step: {total_time/NUM_STEPS}\")\n",
    "print(f\"Average FPS for single env step: {NUM_STEPS/(total_time)}\")"
   ]
  },
  {
   "cell_type": "code",
   "execution_count": 7,
   "metadata": {},
   "outputs": [
    {
     "name": "stdout",
     "output_type": "stream",
     "text": [
      "Average time for 1000 env step: 0.0010244677745140506\n",
      "Average FPS for 1000 env step: 976.1165991525143\n"
     ]
    }
   ],
   "source": [
    "NUM_STEPS = 1000\n",
    "NUM_PROCESSES = 32\n",
    "NUM_ENVS = 128\n",
    "assert(NUM_ENVS % NUM_PROCESSES == 0)\n",
    "NUM_ENVS_PER_WORKER = NUM_ENVS // NUM_PROCESSES\n",
    "\n",
    "envs = vec(nocturne_creator,env_args=[env_config,], num_envs=NUM_ENVS, envs_per_worker=1, env_pool=False)\n",
    "envs.async_reset()\n",
    "obs = envs.recv()[0]\n",
    "\n",
    "total_time = 0\n",
    "for i in range(NUM_STEPS):\n",
    "    actions = [envs.single_action_space.sample() for _ in range(NUM_ENVS)]\n",
    "    start = perf_counter()\n",
    "    envs.step(actions)\n",
    "    end = perf_counter()\n",
    "    total_time += end - start\n",
    "envs.close()\n",
    "print(f\"Average time for {NUM_STEPS} env step: {total_time/(NUM_STEPS*NUM_ENVS)}\")\n",
    "print(f\"Average FPS for {NUM_STEPS} env step: {(NUM_STEPS/(total_time))*NUM_ENVS}\")"
   ]
  },
  {
   "cell_type": "code",
   "execution_count": null,
   "metadata": {},
   "outputs": [],
   "source": []
  }
 ],
 "metadata": {
  "kernelspec": {
   "display_name": ".venv",
   "language": "python",
   "name": "python3"
  },
  "language_info": {
   "codemirror_mode": {
    "name": "ipython",
    "version": 3
   },
   "file_extension": ".py",
   "mimetype": "text/x-python",
   "name": "python",
   "nbconvert_exporter": "python",
   "pygments_lexer": "ipython3",
   "version": "3.11.5"
  }
 },
 "nbformat": 4,
 "nbformat_minor": 2
}
